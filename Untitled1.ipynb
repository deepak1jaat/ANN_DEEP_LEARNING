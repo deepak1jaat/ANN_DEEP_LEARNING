{
 "cells": [
  {
   "cell_type": "code",
   "execution_count": null,
   "id": "afc26fec-4f2e-4c81-9986-a4ebc65ae389",
   "metadata": {},
   "outputs": [],
   "source": []
  }
 ],
 "metadata": {
  "kernelspec": {
   "display_name": "",
   "name": ""
  },
  "language_info": {
   "name": ""
  }
 },
 "nbformat": 4,
 "nbformat_minor": 5
}
